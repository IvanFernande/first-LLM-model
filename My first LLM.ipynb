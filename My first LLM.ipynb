{
 "cells": [
  {
   "cell_type": "code",
   "execution_count": 5,
   "id": "e64f52f4-76f3-4068-a51a-828c903f0078",
   "metadata": {
    "tags": []
   },
   "outputs": [],
   "source": [
    "#Enter your corresponding API KEYs for this example below.\n",
    "import os\n",
    "os.environ[\"TAVILY_API_KEY\"] = \"SECRET_TAVILY_API_KEY\"\n",
    "os.environ[\"OPENAI_API_KEY\"] = \"SECRET_OPENAI_API_KEY\""
   ]
  },
  {
   "cell_type": "raw",
   "id": "2a3eb4e5-dbd8-4298-b88c-d4894f67ab61",
   "metadata": {
    "vscode": {
     "languageId": "raw"
    }
   },
   "source": [
    "Chains\n",
    "- They allow sequencing tasks and processes in defined workflows.\n",
    "- Facilitate interaction between different components and tools.\n",
    "- Optimise the handling of complex and multifaceted tasks."
   ]
  },
  {
   "cell_type": "code",
   "execution_count": 6,
   "id": "ea761c27-9118-40da-b5a2-da80e7809d3b",
   "metadata": {
    "tags": []
   },
   "outputs": [
    {
     "data": {
      "text/plain": [
       "AIMessage(content='Yes, the AI engineering profession has a promising future. As artificial intelligence continues to advance and become more integrated into various industries, the demand for skilled AI engineers will continue to grow. AI engineers are responsible for developing and implementing AI technologies, creating innovative solutions, and driving business growth. With the increasing adoption of AI in areas such as healthcare, finance, transportation, and more, the demand for AI engineers is expected to remain strong in the coming years. Additionally, advancements in AI technologies such as machine learning, deep learning, and natural language processing are constantly evolving, providing new opportunities for AI engineers to continue to innovate and make a significant impact in the field. Overall, the AI engineering profession is likely to have a promising future with ample opportunities for growth and development.', response_metadata={'token_usage': {'completion_tokens': 152, 'prompt_tokens': 17, 'total_tokens': 169}, 'model_name': 'gpt-3.5-turbo', 'system_fingerprint': None, 'finish_reason': 'stop', 'logprobs': None}, id='run-a492cbab-ffbd-41b6-aee5-ad5a46d518ca-0')"
      ]
     },
     "execution_count": 6,
     "metadata": {},
     "output_type": "execute_result"
    }
   ],
   "source": [
    "from langchain_openai import ChatOpenAI\n",
    "\n",
    "llm = ChatOpenAI()\n",
    "\n",
    "llm.invoke(\"Does the AI engineering profession have a promising future?\")"
   ]
  },
  {
   "cell_type": "code",
   "execution_count": 7,
   "id": "42008fd6-7fcd-42c8-957b-50c207247f6d",
   "metadata": {
    "tags": []
   },
   "outputs": [
    {
     "data": {
      "text/plain": [
       "AIMessage(content='Yes, the AI engineering profession has a very promising future. As artificial intelligence continues to advance and be integrated into various industries, the demand for skilled AI engineers will only increase. AI engineers play a critical role in developing, implementing, and maintaining AI systems, making them essential in driving innovation and solving complex problems. Additionally, with the rapid growth of data and the need for advanced analytics, AI engineers will continue to be in high demand for the foreseeable future. Overall, the AI engineering profession offers exciting opportunities for those interested in shaping the future of technology.', response_metadata={'token_usage': {'completion_tokens': 110, 'prompt_tokens': 40, 'total_tokens': 150}, 'model_name': 'gpt-3.5-turbo', 'system_fingerprint': None, 'finish_reason': 'stop', 'logprobs': None}, id='run-adf0c7b1-1da8-4567-9c86-8e7bdea95b38-0')"
      ]
     },
     "execution_count": 7,
     "metadata": {},
     "output_type": "execute_result"
    }
   ],
   "source": [
    "from langchain_core.prompts import ChatPromptTemplate\n",
    "promt = ChatPromptTemplate.from_messages({\n",
    "    (\"system\", \"You are an AI wizard, you can answer questions about the future of AI and AI engineering.\"),\n",
    "    (\"user\", \"{input}\")\n",
    "})\n",
    "\n",
    "chain = promt | llm\n",
    "\n",
    "chain. invoke({\"input\": \"Does the AI engineering profession have a promising future?\"})"
   ]
  },
  {
   "cell_type": "raw",
   "id": "6317699c-854d-48cd-b753-0a1646ebd301",
   "metadata": {
    "tags": [],
    "vscode": {
     "languageId": "raw"
    }
   },
   "source": [
    "Memory:\n",
    "- Improves the system's ability to remember previous interactions.\n",
    "- Supports the generation of more accurate and contextual responses.\n",
    "- Crucial for applications with long-term interactions."
   ]
  },
  {
   "cell_type": "code",
   "execution_count": 8,
   "id": "7494777e-b795-4d8e-9120-60d62fc20d17",
   "metadata": {
    "tags": []
   },
   "outputs": [],
   "source": [
    "from langchain_core.prompts import ChatPromptTemplate, MessagesPlaceholder\n",
    "from langchain_openai.chat_models import ChatOpenAI\n",
    "\n",
    "model = ChatOpenAI()\n",
    "promt = ChatPromptTemplate.from_messages(\n",
    "    [\n",
    "        (\n",
    "            \"system\",\n",
    "            \"You are an assistant specialised in {ability}. You can answer questions about {ability}.\",\n",
    "        ),\n",
    "        MessagesPlaceholder(variable_name = \"history\"),\n",
    "        (\"human\",\"{input}\"),\n",
    "    ]\n",
    ")\n",
    "\n",
    "runnable = promt | model"
   ]
  },
  {
   "cell_type": "code",
   "execution_count": 9,
   "id": "d24b70a3-7913-4b8b-8ddb-c4627e2a820a",
   "metadata": {
    "tags": []
   },
   "outputs": [],
   "source": [
    "from langchain_community.chat_message_histories import ChatMessageHistory\n",
    "from langchain_core.chat_history import BaseChatMessageHistory\n",
    "from langchain_core.runnables.history import RunnableWithMessageHistory\n",
    "\n",
    "store = {}\n",
    "\n",
    "def get_session_history(session_id: str) -> BaseChatMessageHistory:\n",
    "    if session_id not in store:\n",
    "        store[session_id] = ChatMessageHistory()\n",
    "    return store[session_id]\n",
    "\n",
    "with_message_history = RunnableWithMessageHistory(\n",
    "    runnable,\n",
    "    get_session_history,\n",
    "    input_messages_key = \"input\",\n",
    "    history_messages_key = \"history\",\n",
    ")"
   ]
  },
  {
   "cell_type": "code",
   "execution_count": 10,
   "id": "1e49e2fc-139c-48e0-a927-0c43aa322e56",
   "metadata": {
    "tags": []
   },
   "outputs": [
    {
     "name": "stderr",
     "output_type": "stream",
     "text": [
      "Parent run ec545ec4-48e9-49b8-ac69-2b473dfa61da not found for run 7822acac-ecad-4ffa-aec2-e5d60a9da12a. Treating as a root run.\n"
     ]
    },
    {
     "data": {
      "text/plain": [
       "AIMessage(content=\"A loss function is a measure that quantifies how well a machine learning model is performing based on the difference between the predicted values and the actual values. The goal of a machine learning model is to minimize the loss function, which indicates how far off the model's predictions are from the actual values. Different types of machine learning tasks (e.g., classification, regression) use different loss functions to evaluate model performance. Common loss functions include mean squared error, cross-entropy loss, and hinge loss.\", response_metadata={'token_usage': {'completion_tokens': 99, 'prompt_tokens': 34, 'total_tokens': 133}, 'model_name': 'gpt-3.5-turbo', 'system_fingerprint': None, 'finish_reason': 'stop', 'logprobs': None}, id='run-508eacc2-55e3-4762-ab4d-404ee22c3381-0')"
      ]
     },
     "execution_count": 10,
     "metadata": {},
     "output_type": "execute_result"
    }
   ],
   "source": [
    "#You create a session on a data science expert and ask him/her a question.\n",
    "\n",
    "with_message_history.invoke(\n",
    "    {\"ability\": \"data science\", \"input\":\"what is a loss function?\"},\n",
    "    config={\"configurable\": {\"session_id\": \"123abc\"}},\n",
    ")"
   ]
  },
  {
   "cell_type": "code",
   "execution_count": 11,
   "id": "4a22e94d-659f-4461-9ca3-b73c30934a45",
   "metadata": {
    "tags": []
   },
   "outputs": [
    {
     "name": "stderr",
     "output_type": "stream",
     "text": [
      "Parent run f25fb6ad-29a8-4c52-bf0c-79bcc9517c58 not found for run dbabdb01-de60-4c25-a79c-619a329a5c84. Treating as a root run.\n"
     ]
    },
    {
     "data": {
      "text/plain": [
       "AIMessage(content=\"In simpler terms, a loss function is a way to measure how good or bad a machine learning model is at making predictions. It calculates the difference between the predicted values and the actual values. The goal is to minimize this difference, which helps the model make more accurate predictions. Different types of machine learning tasks use different loss functions to evaluate the model's performance.\", response_metadata={'token_usage': {'completion_tokens': 72, 'prompt_tokens': 141, 'total_tokens': 213}, 'model_name': 'gpt-3.5-turbo', 'system_fingerprint': None, 'finish_reason': 'stop', 'logprobs': None}, id='run-605e8da4-f0bf-4f49-aa77-881772673b7d-0')"
      ]
     },
     "execution_count": 11,
     "metadata": {},
     "output_type": "execute_result"
    }
   ],
   "source": [
    "#The session is recovered by asking another question.\n",
    "#See how the answer to the question is reformulated.\n",
    "\n",
    "with_message_history.invoke(\n",
    "    {\"ability\": \"math\", \"input\":\"What?\"},\n",
    "    config={\"configurable\": {\"session_id\": \"123abc\"}},\n",
    ")"
   ]
  },
  {
   "cell_type": "code",
   "execution_count": 12,
   "id": "702c2f8e-15aa-4b91-a845-fee8bb4dc889",
   "metadata": {
    "tags": []
   },
   "outputs": [
    {
     "name": "stderr",
     "output_type": "stream",
     "text": [
      "Parent run 8d88c836-35b0-45c6-8f27-1d0f9a01a720 not found for run ec67a09b-ba8d-4da1-8fbf-f06bf0793591. Treating as a root run.\n"
     ]
    },
    {
     "data": {
      "text/plain": [
       "AIMessage(content='Hello! How can I assist you with math today?', response_metadata={'token_usage': {'completion_tokens': 11, 'prompt_tokens': 28, 'total_tokens': 39}, 'model_name': 'gpt-3.5-turbo', 'system_fingerprint': None, 'finish_reason': 'stop', 'logprobs': None}, id='run-1fb9c06b-542f-4ecb-8fee-1dd1c65e9b95-0')"
      ]
     },
     "execution_count": 12,
     "metadata": {},
     "output_type": "execute_result"
    }
   ],
   "source": [
    "#The same question as the previous query is asked, but in another session.\n",
    "#We can see how in this case, it does not keep talking about loss function.\n",
    "\n",
    "with_message_history.invoke(\n",
    "    {\"ability\": \"math\", \"input\":\"What?\"},\n",
    "    config={\"configurable\": {\"session_id\": \"456def\"}},\n",
    ")"
   ]
  },
  {
   "cell_type": "raw",
   "id": "0cc61f72-37ac-4e4a-97db-940d0bdeb297",
   "metadata": {
    "vscode": {
     "languageId": "raw"
    }
   },
   "source": [
    "Tools:\n",
    "- Extends the capabilities of LLMs with specific functions.\n",
    "- Includes tools for search, analysis and more.\n",
    "- Integrates APIs and external services for additional functions."
   ]
  },
  {
   "cell_type": "code",
   "execution_count": 13,
   "id": "aefcd169-f774-455c-ac03-a0a694e1dd0c",
   "metadata": {
    "tags": []
   },
   "outputs": [],
   "source": [
    "from langchain_community.tools import WikipediaQueryRun\n",
    "from langchain_community.utilities import WikipediaAPIWrapper"
   ]
  },
  {
   "cell_type": "code",
   "execution_count": 14,
   "id": "6d3e2279-6352-4700-b042-7020c65ed404",
   "metadata": {
    "tags": []
   },
   "outputs": [],
   "source": [
    "api_wrapper = WikipediaAPIWrapper(top_k_results=1, doc_content_char_max = 100)\n",
    "tool = WikipediaQueryRun(api_wrapper = api_wrapper)"
   ]
  },
  {
   "cell_type": "code",
   "execution_count": 15,
   "id": "d46fdd5e-3a54-4801-be89-526fe6b301d8",
   "metadata": {
    "tags": []
   },
   "outputs": [
    {
     "data": {
      "text/plain": [
       "'wikipedia'"
      ]
     },
     "execution_count": 15,
     "metadata": {},
     "output_type": "execute_result"
    }
   ],
   "source": [
    "tool.name "
   ]
  },
  {
   "cell_type": "code",
   "execution_count": 16,
   "id": "7b168823-7877-475a-9341-eb074fdf7472",
   "metadata": {
    "tags": []
   },
   "outputs": [
    {
     "data": {
      "text/plain": [
       "'A wrapper around Wikipedia. Useful for when you need to answer general questions about people, places, companies, facts, historical events, or other subjects. Input should be a search query.'"
      ]
     },
     "execution_count": 16,
     "metadata": {},
     "output_type": "execute_result"
    }
   ],
   "source": [
    "tool.description"
   ]
  },
  {
   "cell_type": "code",
   "execution_count": 17,
   "id": "2b98c0f5-513e-4f08-b26e-0525598a014d",
   "metadata": {
    "tags": []
   },
   "outputs": [
    {
     "data": {
      "text/plain": [
       "{'query': {'title': 'Query', 'type': 'string'}}"
      ]
     },
     "execution_count": 17,
     "metadata": {},
     "output_type": "execute_result"
    }
   ],
   "source": [
    "tool.args"
   ]
  },
  {
   "cell_type": "code",
   "execution_count": 18,
   "id": "7443b105-e430-4840-babc-63542469730a",
   "metadata": {
    "tags": []
   },
   "outputs": [
    {
     "data": {
      "text/plain": [
       "\"Page: LangChain\\nSummary: LangChain is a framework designed to simplify the creation of applications using large language models (LLMs). As a language model integration framework, LangChain's use-cases largely overlap with those of language models in general, including document analysis and summarization, chatbots, and code analysis.\\n\\n\""
      ]
     },
     "execution_count": 18,
     "metadata": {},
     "output_type": "execute_result"
    }
   ],
   "source": [
    "#tool.run({\"query\":\"langchain\"})\n",
    "#Since this tool has only one query, there is no need to specify it.\n",
    "tool.run(\"langchain\")"
   ]
  },
  {
   "cell_type": "raw",
   "id": "7cdf1354-bb44-4149-b3d9-fe1b2c5fe309",
   "metadata": {
    "vscode": {
     "languageId": "raw"
    }
   },
   "source": [
    "Agents:\n",
    "- Agents are autonomous software entities that interact and respond dynamically with users and the environment.\n",
    "- They are capable of performing independent actions to achieve specific goals based on observation of the environment and analysis of data.\n",
    "- They use and orchestrate 'chains' to execute action logics aimed at achieving specific goals.\n",
    "- Maintain context and memory throughout interactions, enabling adaptive responses to changes in the environment."
   ]
  },
  {
   "cell_type": "code",
   "execution_count": 19,
   "id": "014a2dbb-f499-4d99-b0f3-ba10cbcd71c5",
   "metadata": {
    "tags": []
   },
   "outputs": [],
   "source": [
    "from langchain_community.tools.tavily_search import TavilySearchResults"
   ]
  },
  {
   "cell_type": "code",
   "execution_count": 20,
   "id": "63e3262e-c4b4-424e-874e-8e9302159bf3",
   "metadata": {
    "tags": []
   },
   "outputs": [],
   "source": [
    "search = TavilySearchResults()"
   ]
  },
  {
   "cell_type": "code",
   "execution_count": null,
   "id": "c8ce3f1a-41af-41f8-a62a-3f8e2728be82",
   "metadata": {
    "tags": []
   },
   "outputs": [],
   "source": [
    "search.invoke(\"What is the temperature in London today?\")"
   ]
  },
  {
   "cell_type": "code",
   "execution_count": 21,
   "id": "28a8af21-e4cd-4e90-8c2f-cc04f5b89525",
   "metadata": {
    "tags": []
   },
   "outputs": [],
   "source": [
    "tools = [search, tool]"
   ]
  },
  {
   "cell_type": "code",
   "execution_count": 22,
   "id": "8ac2c75c-ffe5-40ad-bd72-076271d9b28b",
   "metadata": {
    "tags": []
   },
   "outputs": [],
   "source": [
    "from langchain_openai import ChatOpenAI\n",
    "\n",
    "llm = ChatOpenAI(model=\"gpt-3.5-turbo-0125\", temperature = 0)"
   ]
  },
  {
   "cell_type": "code",
   "execution_count": 23,
   "id": "c98bb93f-e5cc-4878-8f9f-79321f1a56a9",
   "metadata": {
    "tags": []
   },
   "outputs": [
    {
     "data": {
      "text/plain": [
       "[SystemMessagePromptTemplate(prompt=PromptTemplate(input_variables=[], template='You are a helpful assistant')),\n",
       " MessagesPlaceholder(variable_name='chat_history', optional=True),\n",
       " HumanMessagePromptTemplate(prompt=PromptTemplate(input_variables=['input'], template='{input}')),\n",
       " MessagesPlaceholder(variable_name='agent_scratchpad')]"
      ]
     },
     "execution_count": 23,
     "metadata": {},
     "output_type": "execute_result"
    }
   ],
   "source": [
    "from langchain import hub\n",
    "promt = hub.pull(\"hwchase17/openai-functions-agent\")\n",
    "promt.messages"
   ]
  },
  {
   "cell_type": "code",
   "execution_count": 24,
   "id": "6d7710fe-fefe-43d4-9cf0-e0b698ba3f09",
   "metadata": {
    "tags": []
   },
   "outputs": [],
   "source": [
    "from langchain.agents import create_tool_calling_agent\n",
    "\n",
    "agent = create_tool_calling_agent(llm, tools, promt)"
   ]
  },
  {
   "cell_type": "code",
   "execution_count": 25,
   "id": "aacaefee-b3b7-4242-be32-b4e89212e1be",
   "metadata": {
    "tags": []
   },
   "outputs": [],
   "source": [
    "from langchain.agents import AgentExecutor\n",
    "\n",
    "agent_executor = AgentExecutor(agent = agent, tools = tools, verbose = True)"
   ]
  },
  {
   "cell_type": "code",
   "execution_count": 26,
   "id": "77725357-d807-41a2-98d2-92498fb94ee0",
   "metadata": {
    "tags": []
   },
   "outputs": [
    {
     "name": "stdout",
     "output_type": "stream",
     "text": [
      "\n",
      "\n",
      "\u001b[1m> Entering new AgentExecutor chain...\u001b[0m\n",
      "\u001b[32;1m\u001b[1;3mHi! How can I assist you today?\u001b[0m\n",
      "\n",
      "\u001b[1m> Finished chain.\u001b[0m\n"
     ]
    },
    {
     "data": {
      "text/plain": [
       "{'input': 'Hello', 'output': 'Hi! How can I assist you today?'}"
      ]
     },
     "execution_count": 26,
     "metadata": {},
     "output_type": "execute_result"
    }
   ],
   "source": [
    "agent_executor.invoke({\"input\":\"Hello\"})"
   ]
  },
  {
   "cell_type": "code",
   "execution_count": 27,
   "id": "370c09f0-c34e-47ce-8d02-348edf11f2b2",
   "metadata": {
    "tags": []
   },
   "outputs": [
    {
     "name": "stdout",
     "output_type": "stream",
     "text": [
      "\n",
      "\n",
      "\u001b[1m> Entering new AgentExecutor chain...\u001b[0m\n",
      "\u001b[32;1m\u001b[1;3mAs an AI assistant, I don't have personal opinions, but I can provide information on popular Marvel superheroes. The concept of the \"best\" Marvel superhero is subjective and varies among fans based on personal preferences. Some of the most popular Marvel superheroes include:\n",
      "\n",
      "1. **Spider-Man**: Known for his relatable struggles and witty humor, Spider-Man is a beloved character who resonates with many fans.\n",
      "\n",
      "2. **Iron Man (Tony Stark)**: A genius billionaire with a suit of high-tech armor, Iron Man is admired for his intelligence, charisma, and growth as a character.\n",
      "\n",
      "3. **Captain America (Steve Rogers)**: A symbol of patriotism and heroism, Captain America is respected for his unwavering moral compass and leadership qualities.\n",
      "\n",
      "4. **Black Panther (T'Challa)**: The king of Wakanda, Black Panther is celebrated for his strength, intelligence, and representation of African culture.\n",
      "\n",
      "5. **Thor**: The God of Thunder, Thor is known for his mythological background, powerful abilities, and noble character.\n",
      "\n",
      "Each of these superheroes has a unique appeal and has made significant contributions to the Marvel Universe. Ultimately, the \"best\" Marvel superhero is a matter of personal preference and can vary depending on individual tastes and values.\u001b[0m\n",
      "\n",
      "\u001b[1m> Finished chain.\u001b[0m\n"
     ]
    },
    {
     "data": {
      "text/plain": [
       "{'input': 'Who is the best Marvel superhero and why?',\n",
       " 'output': 'As an AI assistant, I don\\'t have personal opinions, but I can provide information on popular Marvel superheroes. The concept of the \"best\" Marvel superhero is subjective and varies among fans based on personal preferences. Some of the most popular Marvel superheroes include:\\n\\n1. **Spider-Man**: Known for his relatable struggles and witty humor, Spider-Man is a beloved character who resonates with many fans.\\n\\n2. **Iron Man (Tony Stark)**: A genius billionaire with a suit of high-tech armor, Iron Man is admired for his intelligence, charisma, and growth as a character.\\n\\n3. **Captain America (Steve Rogers)**: A symbol of patriotism and heroism, Captain America is respected for his unwavering moral compass and leadership qualities.\\n\\n4. **Black Panther (T\\'Challa)**: The king of Wakanda, Black Panther is celebrated for his strength, intelligence, and representation of African culture.\\n\\n5. **Thor**: The God of Thunder, Thor is known for his mythological background, powerful abilities, and noble character.\\n\\nEach of these superheroes has a unique appeal and has made significant contributions to the Marvel Universe. Ultimately, the \"best\" Marvel superhero is a matter of personal preference and can vary depending on individual tastes and values.'}"
      ]
     },
     "execution_count": 27,
     "metadata": {},
     "output_type": "execute_result"
    }
   ],
   "source": [
    "agent_executor.invoke({\"input\":\"Who is the best Marvel superhero and why?\"})"
   ]
  },
  {
   "cell_type": "code",
   "execution_count": 28,
   "id": "ef4869e2-d687-4c02-9992-041308b42af3",
   "metadata": {
    "tags": []
   },
   "outputs": [
    {
     "name": "stdout",
     "output_type": "stream",
     "text": [
      "\n",
      "\n",
      "\u001b[1m> Entering new AgentExecutor chain...\u001b[0m\n",
      "\u001b[32;1m\u001b[1;3m\n",
      "Invoking: `tavily_search_results_json` with `{'query': 'current temperature in Seville, Spain'}`\n",
      "\n",
      "\n",
      "\u001b[0m\u001b[36;1m\u001b[1;3m[{'url': 'https://www.bbc.com/weather/2510911', 'content': '14-day weather forecast for Seville.'}, {'url': 'https://www.timeanddate.com/weather/spain/sevilla', 'content': 'Current weather in Sevilla and forecast for today, tomorrow, and next 14 days'}, {'url': 'https://www.accuweather.com/en/es/seville/306733/weather-today/306733', 'content': \"World Europe Spain Andalusia Seville. Everything you need to know about today's weather in Seville, Andalusia, Spain. High/Low, Precipitation Chances, Sunrise/Sunset, and today's Temperature History.\"}, {'url': 'https://www.timeanddate.com/weather/@6361046', 'content': 'Current weather in Seville and forecast for today, tomorrow, and next 14 days. Sign in. News. News Home; Astronomy News; Time Zone News; Calendar & Holiday News; Newsletter; ... More weather in Spain. Forecast for the next 2 weeks. Scroll right to see more. Mon Tue Wed Thu Fri Sat Sun; 29. 30. View historic weather. 1. 71 / 53 °F. 2. 71 / 42 ...'}, {'url': 'https://www.accuweather.com/en/es/seville/306733/weather-forecast/306733', 'content': \"Seville, Andalusia\\nSeville\\nAndalusia\\nAround the Globe\\nAround the Globe\\nHurricane Tracker\\nSevere Weather\\nRadar & Maps\\nNews & Features\\nAstronomy\\nBusiness\\nClimate\\nHealth\\nRecreation\\nSports\\nTravel\\nVideo\\nToday\\nToday's Weather\\nThu, Mar 21\\nSome sun, then turning cloudy\\nHi: 77°\\nTonight: Cloudy and mild\\nLo: 57°\\nCurrent Weather\\n1:22 PM\\nMINUTECAST™\\nRain starting in 32 min\\nLooking Ahead\\nNoticeably cooler Monday\\nSeville Weather Radar & Maps\\nHourly Weather\\n10-Day Weather Forecast\\nToday\\n3/21\\nSome sun, then turning cloudy\\nNight: Cloudy and mild\\nFri\\n3/22\\nMostly cloudy and very warm\\nOvercast and mild\\nSat\\n3/23\\nWarm with some brightening\\nClouds breaking; mild\\nSun\\n3/24\\nPartly sunny and warm\\nThunderstorms late\\nMon\\n3/25\\nA couple of showers; cooler\\nCloudy, showers around late\\nTue\\n3/26\\nA few afternoon showers\\nRain tapering off\\nWed\\n3/27\\nMostly sunny and windy\\nWindy; a little rain late\\nThu\\n3/28\\nCloudy\\nPartly to mostly cloudy\\nFri\\n3/29\\nSome brightening\\nCloudy, a little rain late\\nSat\\n3/30\\nPeriods of rain\\nPartly cloudy\\nSun & Moon\\nAir Quality\\n Allergy Outlook\\nTop Stories\\nHealth\\nUS allergy forecast for 2024 calls for 3 peaks in pollen\\n20 hours ago\\nWinter Weather\\nClipper storm to unload snow in Minneapolis, Chicago and eye Northeast\\n2 hours ago\\nWeather News\\nFirst tornado forecast: Scientists who dared to forecast 'act of God'\\nWinter Weather\\nStorms to gather on US East Coast with rain, wind and snow upcoming\\n2 hours ago\\nWeather Forecasts\\nStorms packing rain, snow to return to California, northwest US\\n3 hours ago\\nFeatured Stories\\nRecreation\\nRare and majestic weather phenomenon only exists for minutes\\n1 day ago\\nTravel\\nUnited CEO tries to reassure customers following multiple safety incid...\\n1 day ago\\nClimate\\nGlobal ocean heat has hit a new record every single day for the last y...\\n2 days ago\\nTravel\\nGigantic aircraft design aims to create the largest plane ever to fly\\n16 hours ago\\nTravel\\nSurging gas prices just hit a significant milestone\\n2 days ago\\nWeather Near Seville:\\nWe have updated our Privacy Policy and Cookie Policy.\\n Reduce time spent outside if you are feeling symptoms such as difficulty breathing or throat irritation.\\n Get AccuWeather alerts as they happen with our browser notifications.\\n Notifications Enabled\\nThanks!\"}]\u001b[0m\u001b[32;1m\u001b[1;3mI found multiple sources with weather information for Seville, Spain. You can check the current temperature and weather forecast for Seville on the following websites:\n",
      "\n",
      "1. [BBC Weather - 14-day weather forecast for Seville](https://www.bbc.com/weather/2510911)\n",
      "2. [Time and Date - Current weather in Sevilla and forecast for today](https://www.timeanddate.com/weather/spain/sevilla)\n",
      "3. [AccuWeather - Everything you need to know about today's weather in Seville](https://www.accuweather.com/en/es/seville/306733/weather-today/306733)\n",
      "\n",
      "You can visit these websites to get the most up-to-date temperature information for Seville, Spain.\u001b[0m\n",
      "\n",
      "\u001b[1m> Finished chain.\u001b[0m\n"
     ]
    },
    {
     "data": {
      "text/plain": [
       "{'input': 'what is the temperature today in Seville, Spain',\n",
       " 'output': \"I found multiple sources with weather information for Seville, Spain. You can check the current temperature and weather forecast for Seville on the following websites:\\n\\n1. [BBC Weather - 14-day weather forecast for Seville](https://www.bbc.com/weather/2510911)\\n2. [Time and Date - Current weather in Sevilla and forecast for today](https://www.timeanddate.com/weather/spain/sevilla)\\n3. [AccuWeather - Everything you need to know about today's weather in Seville](https://www.accuweather.com/en/es/seville/306733/weather-today/306733)\\n\\nYou can visit these websites to get the most up-to-date temperature information for Seville, Spain.\"}"
      ]
     },
     "execution_count": 28,
     "metadata": {},
     "output_type": "execute_result"
    }
   ],
   "source": [
    "agent_executor.invoke({\"input\":\"what is the temperature today in Seville, Spain\"})"
   ]
  },
  {
   "cell_type": "markdown",
   "id": "cbd3bfef",
   "metadata": {},
   "source": [
    "*LangChain Ecosystem:*\n",
    "\n",
    "LangGraph:\n",
    "- Langchain is a library designed to build multi-actor, stateful applications using large language models (LLMs), based on LangChain.\n",
    "- It extends the LangChain Expression Language (LCEL) with the ability to coordinate multiple chains or actors across multiple stages of computation in a cyclic fashion.\n",
    "- Aimed at facilitating the handling of cycles and repetitive tasks within applications.\n",
    "- Ideal for implementing intelligent agent behaviours that require iterative decisions and actions based on continuous analysis and real-time data input.\n",
    "\n",
    "LangSmith:\n",
    "- A unified platform for debugging, testing and monitoring language model and intelligent agent applications.\n",
    "- It works in conjunction with LangChain, but can also operate independently.\n",
    "- It accelerates the LLM application development and deployment process by enabling real-time testing and remediation.\n",
    "\n",
    "LangServe:\n",
    "- Facilitates the deployment and maintenance of applications using LangChain, converting language model applications to APi servers quickly and efficiently.\n",
    "- Built with FastAPI, LangServe provides an API, automatic documentation and a test space for your LangChain applications.\n",
    "- By default all server inputs and outputs are automatically logged in LangSmith."
   ]
  }
 ],
 "metadata": {
  "kernelspec": {
   "display_name": "Python 3 (ipykernel)",
   "language": "python",
   "name": "python3"
  },
  "language_info": {
   "codemirror_mode": {
    "name": "ipython",
    "version": 3
   },
   "file_extension": ".py",
   "mimetype": "text/x-python",
   "name": "python",
   "nbconvert_exporter": "python",
   "pygments_lexer": "ipython3",
   "version": "3.11.5"
  }
 },
 "nbformat": 4,
 "nbformat_minor": 5
}
